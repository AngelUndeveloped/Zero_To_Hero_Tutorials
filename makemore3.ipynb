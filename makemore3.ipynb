{
 "cells": [
  {
   "cell_type": "markdown",
   "id": "193dc92d-f760-4ad3-91e0-1a0170a76cf7",
   "metadata": {},
   "source": [
    "# makemore:part 3 tutorial"
   ]
  },
  {
   "cell_type": "code",
   "execution_count": 2,
   "id": "e67d91d3-05e7-4edc-88cf-2fe570a8aca3",
   "metadata": {},
   "outputs": [],
   "source": [
    "import torch\n",
    "import torch.nn.functional as F # contains functions to for building neural networks, like loss functions,activation functions etc.\n",
    "import matplotlib.pyplot as plt # for making figures\n",
    "# magic command for jupyter notebook. displays graphs in cell instead of another windowe\n",
    "%matplotlib inline  "
   ]
  },
  {
   "cell_type": "code",
   "execution_count": 3,
   "id": "7862ad20-a67d-4e9b-b950-56f842c9e3dd",
   "metadata": {},
   "outputs": [
    {
     "name": "stdout",
     "output_type": "stream",
     "text": [
      "['emma', 'olivia', 'ava', 'isabella', 'sophia', 'charlotte', 'mia', 'amelia']\n",
      "['abigail', 'emily', 'elizabeth', 'mila', 'ella', 'avery', 'sofia', 'camila', 'aria', 'scarlett', 'victoria', 'madison', 'luna', 'grace', 'chloe']\n"
     ]
    }
   ],
   "source": [
    "# read in all the words\n",
    "words = open('names.txt', 'r').read().splitlines() # split lines breaks each line into an element\n",
    "words[:8]\n",
    "print(words[:8])\n",
    "print(words[10:25])"
   ]
  },
  {
   "cell_type": "code",
   "execution_count": 4,
   "id": "129ab0f5-f25e-44a3-8899-cc0420e53a14",
   "metadata": {},
   "outputs": [
    {
     "data": {
      "text/plain": [
       "32033"
      ]
     },
     "execution_count": 4,
     "metadata": {},
     "output_type": "execute_result"
    }
   ],
   "source": [
    "len(words)"
   ]
  },
  {
   "cell_type": "code",
   "execution_count": 15,
   "id": "3550756b-3bbf-4c98-ae29-d20aa8c4906f",
   "metadata": {},
   "outputs": [
    {
     "name": "stdout",
     "output_type": "stream",
     "text": [
      "Concatenated string of words:\n",
      "emmaoliviaavaisabellasophiacharlottemiaameliaharperevelynabigailemilyelizabethmilaellaaverysofiacami\n",
      "Words set:\n",
      "{'t', 'f', 'n', 'o', 's', 'i', 'x', 'l', 'k', 'r', 'a', 'd', 'w', 'b', 'q', 'e', 'v', 'm', 'y', 'c', 'u', 'h', 'g', 'p', 'j', 'z'}\n",
      "Printing char:\n",
      "['a', 'b', 'c', 'd', 'e', 'f', 'g', 'h', 'i', 'j', 'k', 'l', 'm', 'n', 'o', 'p', 'q', 'r', 's', 't', 'u', 'v', 'w', 'x', 'y', 'z']\n",
      "Enumerated chars\n",
      "stoi:\n",
      "{'a': 1, 'b': 2, 'c': 3, 'd': 4, 'e': 5, 'f': 6, 'g': 7, 'h': 8, 'i': 9, 'j': 10, 'k': 11, 'l': 12, 'm': 13, 'n': 14, 'o': 15, 'p': 16, 'q': 17, 'r': 18, 's': 19, 't': 20, 'u': 21, 'v': 22, 'w': 23, 'x': 24, 'y': 25, 'z': 26}\n",
      "itos:\n",
      "{1: 'a', 2: 'b', 3: 'c', 4: 'd', 5: 'e', 6: 'f', 7: 'g', 8: 'h', 9: 'i', 10: 'j', 11: 'k', 12: 'l', 13: 'm', 14: 'n', 15: 'o', 16: 'p', 17: 'q', 18: 'r', 19: 's', 20: 't', 21: 'u', 22: 'v', 23: 'w', 24: 'x', 25: 'y', 26: 'z', 0: '.'}\n",
      "vocab_size:\n",
      "27\n"
     ]
    }
   ],
   "source": [
    "# build the vocabulary of characters and mappings to/from integers\n",
    "concatenated_words_string = ''.join(words) # will concatenate all words in the words array\n",
    "print('Concatenated string of words:')\n",
    "print(concatenated_words_string[:100])  # only prints the first 100 letters because i dont want to see all of them, notice that they are unordered.\n",
    "words_set = set(concatenated_words_string) # create set from the concatenated word string, gets all the unique charactesrs from the input string\n",
    "print('Words set:')\n",
    "print(words_set)\n",
    "\n",
    "chars = sorted(words_set) # Create a sorted list of unique characters from the word\n",
    "print('Printing char:')\n",
    "print(chars)\n",
    "\n",
    "#stoi =? string of index?\n",
    "chars_enumerated = enumerate(chars) # enumerates sorted characters and adds index.\n",
    "print('Enumerated chars')\n",
    "# for element in chars_enumerated:\n",
    "#     print(element)\n",
    "\n",
    "# create a dictionary mapping from character to index, starting index from 1\n",
    "stoi = {s:i+1 for i,s in chars_enumerated}\n",
    "print('stoi:')\n",
    "print(stoi)\n",
    "stoi['.'] = 0\n",
    "itos = {i:s for s,i in stoi.items()}\n",
    "\n",
    "print('itos:')\n",
    "print(itos)\n",
    "\n",
    "vocab_size = len(itos)\n",
    "print('vocab_size:')\n",
    "print(vocab_size)"
   ]
  },
  {
   "cell_type": "code",
   "execution_count": 28,
   "id": "06742f75-13d5-4738-949a-b4f9e1cddccc",
   "metadata": {},
   "outputs": [
    {
     "name": "stdout",
     "output_type": "stream",
     "text": [
      "torch.Size([182771, 3]) torch.Size([182771])\n",
      "torch.Size([22711, 3]) torch.Size([22711])\n",
      "torch.Size([22664, 3]) torch.Size([22664])\n"
     ]
    }
   ],
   "source": [
    "# build the dataset\n",
    "block_size = 3 # context length: how many characters do we take to predict the next one?\n",
    "\n",
    "def build_dataset(words):  \n",
    "    X, Y = [], []\n",
    "  \n",
    "    for w in words:\n",
    "        context = [0] * block_size\n",
    "        for ch in w + '.':\n",
    "            ix = stoi[ch] # Short Term Objective Intelligibility\n",
    "            X.append(context)\n",
    "            Y.append(ix)\n",
    "            context = context[1:] + [ix] # crop and append\n",
    "\n",
    "    X = torch.tensor(X)\n",
    "    Y = torch.tensor(Y)\n",
    "    print(X.shape, Y.shape)\n",
    "    return X, Y\n",
    "\n",
    "import random\n",
    "random.seed(42)\n",
    "random.shuffle(words)\n",
    "\n",
    "# Getting percentages of words\n",
    "n1 = int(0.8*len(words))\n",
    "n2 = int(0.9*len(words))\n",
    "\n",
    "# applying the class we just built shuffled words set\n",
    "Xtr,  Ytr  = build_dataset(words[:n1])     # 80%\n",
    "Xdev, Ydev = build_dataset(words[n1:n2])   # 10%\n",
    "Xte,  Yte  = build_dataset(words[n2:])     # 10%\n",
    "\n",
    "# summary of this block: we created a function build_dataset that creates two tensors  x and y by iterating through every word in the words set\n",
    "# then creatinga  context set of size block_size initialized at 0... \n",
    "# we iterate through each character in each word plus a '.' to seperate the words\n"
   ]
  },
  {
   "cell_type": "code",
   "execution_count": null,
   "id": "08e5957f-5bb6-49bb-9802-05becbd095f2",
   "metadata": {},
   "outputs": [],
   "source": [
    "# MLP revisited\n",
    "n_embd = 10 # the dimensionality of the character embedding vectors\n",
    "n_hidden = 200 # the number of neurons in the hidden layer of the MLP\n",
    "\n",
    "g = torch.Generator().manual_seed(2147483647) # for reproducibility\n",
    "C  = torch.randn((vocab_size, n_embd),            generator=g)\n",
    "W1 = torch.randn((n_embd * block_size, n_hidden), generator=g) * (5/3)/((n_embd * block_size)**0.5) #* 0.2\n",
    "#b1 = torch.randn(n_hidden,                        generator=g) * 0.01\n",
    "W2 = torch.randn((n_hidden, vocab_size),          generator=g) * 0.01\n",
    "b2 = torch.randn(vocab_size,                      generator=g) * 0\n",
    "\n",
    "# BatchNorm parameters\n",
    "bngain = torch.ones((1, n_hidden))\n",
    "bnbias = torch.zeros((1, n_hidden))\n",
    "bnmean_running = torch.zeros((1, n_hidden))\n",
    "bnstd_running = torch.ones((1, n_hidden))\n",
    "\n",
    "parameters = [C, W1, W2, b2, bngain, bnbias]\n",
    "print(sum(p.nelement() for p in parameters)) # number of parameters in total\n",
    "for p in parameters:\n",
    "  p.requires_grad = True"
   ]
  }
 ],
 "metadata": {
  "kernelspec": {
   "display_name": "Python 3 (ipykernel)",
   "language": "python",
   "name": "python3"
  },
  "language_info": {
   "codemirror_mode": {
    "name": "ipython",
    "version": 3
   },
   "file_extension": ".py",
   "mimetype": "text/x-python",
   "name": "python",
   "nbconvert_exporter": "python",
   "pygments_lexer": "ipython3",
   "version": "3.9.12"
  }
 },
 "nbformat": 4,
 "nbformat_minor": 5
}
